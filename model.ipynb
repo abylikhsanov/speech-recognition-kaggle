{
 "cells": [
  {
   "cell_type": "code",
   "execution_count": 11,
   "metadata": {
    "collapsed": true
   },
   "outputs": [],
   "source": [
    "import numpy as np\n",
    "import matplotlib.pyplot as plt\n",
    "import random\n",
    "import tensorflow as tf\n",
    "from tensorflow.contrib.layers import flatten\n",
    "from sklearn.utils import shuffle\n",
    "from scipy.io.wavfile import read\n",
    "import matplotlib.pyplot as plt\n",
    "from scipy.signal import spectrogram\n",
    "import os"
   ]
  },
  {
   "cell_type": "code",
   "execution_count": 12,
   "metadata": {
    "collapsed": true
   },
   "outputs": [],
   "source": [
    "path = '/home/carnd/speech-recognition-kaggle/speech-data/'\n",
    "test_list = []\n",
    "valid_list = []\n",
    "with open(path+'testing_list.txt') as testing_file:\n",
    "    data = testing_file.readlines()\n",
    "    for line in data:\n",
    "        test_list.append(line.strip())\n",
    "        \n",
    "with open(path+'validation_list.txt') as testing_file:\n",
    "    data = testing_file.readlines()\n",
    "    for line in data:\n",
    "        valid_list.append(line.strip())\n",
    "        \n"
   ]
  },
  {
   "cell_type": "code",
   "execution_count": 13,
   "metadata": {
    "collapsed": true
   },
   "outputs": [],
   "source": [
    "classes = ['yes','no','up','down','left','right','on','off','stop','go',\n",
    "           '_background_noise_','bed','bird','cat','dog','eight',\n",
    "                  'five','four','happy','house','marvin','nine','one',\n",
    "                  'seven','sheila','six','three','tree','two','wow','zero']\n",
    "all_dir = []\n",
    "\n",
    "for i in classes:\n",
    "    for l in os.listdir(path+i):\n",
    "        all_dir.append(i+'/'+l)\n",
    "\n",
    "for data1,data2 in zip(test_list,valid_list):\n",
    "    all_dir.remove(data1)\n",
    "    all_dir.remove(data2)"
   ]
  },
  {
   "cell_type": "code",
   "execution_count": 14,
   "metadata": {},
   "outputs": [
    {
     "name": "stderr",
     "output_type": "stream",
     "text": [
      "/home/carnd/anaconda3/envs/carnd-term1/lib/python3.5/site-packages/scipy/io/wavfile.py:273: WavFileWarning: Chunk (non-data) not understood, skipping it.\n",
      "  WavFileWarning)\n"
     ]
    },
    {
     "data": {
      "text/plain": [
       "[<matplotlib.lines.Line2D at 0x7f3eec17e390>]"
      ]
     },
     "execution_count": 14,
     "metadata": {},
     "output_type": "execute_result"
    },
    {
     "data": {
      "image/png": "[encoded data removed]",
      "text/plain": [
       "<matplotlib.figure.Figure at 0x7f3f20103358>"
      ]
     },
     "metadata": {},
     "output_type": "display_data"
    }
   ],
   "source": [
    "#import soundfile as sf\n",
    "%matplotlib inline\n",
    "\n",
    "classes = ['yes','no','up','down','left','right','on','off','stop','go']\n",
    "\n",
    "unknown_classes = ['_background_noise_','bed','bird','cat','dog','eight',\n",
    "                  'five','four','happy','house','marvin','nine','one',\n",
    "                  'seven','sheila','six','three','tree','two','wow','zero']\n",
    "X_train = []\n",
    "y_train = []\n",
    "X_test = []\n",
    "y_test = []\n",
    "X_valid = []\n",
    "y_valid = []\n",
    "rate = []\n",
    "for l in all_dir:\n",
    "    check = l.split('/')[0]\n",
    "    try:\n",
    "        data = read(path+l)\n",
    "        rate.append(data[1].size)\n",
    "        X_train.append(data[1])\n",
    "        if check in classes:\n",
    "            y_train.append(classes.index(check))\n",
    "        else:\n",
    "            y_train.append(10)\n",
    "    except ValueError:\n",
    "        continue\n",
    "        \n",
    "for l in valid_list:\n",
    "    check = l.split('/')[0]\n",
    "    try:\n",
    "        data = read(path+l)\n",
    "        X_valid.append(data[1])\n",
    "        if check in classes:\n",
    "            y_valid.append(classes.index(check))\n",
    "        else:\n",
    "            y_valid.append(10)\n",
    "    except ValueError:\n",
    "        continue\n",
    "        \n",
    "for l in test_list:\n",
    "    check = l.split('/')[0]\n",
    "    try:\n",
    "        data = read(path+l)\n",
    "        X_test.append(data[1])\n",
    "        if check in classes:\n",
    "            y_test.append(classes.index(check))\n",
    "        else:\n",
    "            y_test.append(10)\n",
    "    except ValueError:\n",
    "        continue\n",
    "        \n",
    "X_train = np.array(X_train)\n",
    "y_train = np.array(y_train)\n",
    "X_valid = np.array(X_valid)\n",
    "y_valid = np.array(y_valid)\n",
    "X_test = np.array(X_test)\n",
    "y_test = np.array(y_test)\n",
    "\n",
    "plt.plot(range(X_train[0].size),X_train[0])"
   ]
  },
  {
   "cell_type": "code",
   "execution_count": 15,
   "metadata": {
    "collapsed": true
   },
   "outputs": [],
   "source": [
    "# Pre-emphasis\n",
    "pre_emphasis= 0.97\n",
    "rate = np.array(rate)\n",
    "for x in range(len(X_train)):\n",
    "    X_train[x][1:] = X_train[x][1:] - pre_emphasis * X_train[x][:-1]\n",
    "for x in range(len(X_test)):\n",
    "    X_test[x][1:] = X_test[x][1:] - pre_emphasis * X_test[x][:-1]\n",
    "for x in range(len(X_valid)):\n",
    "    X_valid[x][1:] = X_valid[x][1:] - pre_emphasis * X_valid[x][:-1]"
   ]
  },
  {
   "cell_type": "code",
   "execution_count": 16,
   "metadata": {},
   "outputs": [
    {
     "data": {
      "text/plain": [
       "[<matplotlib.lines.Line2D at 0x7f3eec00bb00>]"
      ]
     },
     "execution_count": 16,
     "metadata": {},
     "output_type": "execute_result"
    },
    {
     "data": {
      "image/png": "[encoded data removed]",
      "text/plain": [
       "<matplotlib.figure.Figure at 0x7f3eeca450b8>"
      ]
     },
     "metadata": {},
     "output_type": "display_data"
    }
   ],
   "source": [
    "plt.plot(range(X_train[11685].size),X_train[11685])"
   ]
  },
  {
   "cell_type": "code",
   "execution_count": 17,
   "metadata": {
    "collapsed": true
   },
   "outputs": [],
   "source": [
    "def normalize(X_data):\n",
    "    sample_rate = 16e3\n",
    "    frame_size = 0.025\n",
    "    frame_stride = 0.01\n",
    "    frame_length, frame_step = frame_size * sample_rate, frame_stride * sample_rate  # Convert from seconds to samples\n",
    "    frame_length = int(round(frame_length))\n",
    "    frame_step = int(round(frame_step))\n",
    "\n",
    "    signal_length = 5000\n",
    "    num_frames = int(np.ceil(float(np.abs(signal_length - frame_length)) / frame_step))  # Make sure that we have at least 1 frame\n",
    "    pad_signal_length = num_frames * frame_step + frame_length\n",
    "    z = np.zeros((pad_signal_length - signal_length))\n",
    "    frames  =[]\n",
    "    for x in range(51131):\n",
    "        pad_signal = np.append(X_data[x], z) # Pad Signal to make sure that all frames have equal number of samples without truncating any samples from the original signal\n",
    "        indices = np.tile(np.arange(0, frame_length), (num_frames, 1)) + np.tile(np.arange(0, num_frames * frame_step, frame_step), (frame_length, 1)).T\n",
    "        frames_temp = pad_signal[indices.astype(np.int32, copy=False)]\n",
    "        frames.append(frames_temp)\n",
    "    \n",
    "    \n",
    "    frames = np.array(frames)\n",
    "    # Windowing -> Hamming window\n",
    "    frames *= np.hamming(frame_length)\n",
    "    \n",
    "    \n",
    "    # FFT\n",
    "    NFFT = 512\n",
    "    mag_frames = frames.copy()\n",
    "    pow_frames = frames.copy()\n",
    "    for x in range(frames.shape[0]):\n",
    "        mag_frames[x] = np.absolute(np.fft.rfft(frames[x], NFFT))  # Magnitude of the FFT\n",
    "        pow_frames[x] = ((1.0 / NFFT) * ((mag_frames[x]) ** 2))  # Power Spectrum\n",
    "        \n",
    "        \n",
    "    # Filter bank\n",
    "    nfilt = 40\n",
    "    low_freq_mel = 0\n",
    "    high_freq_mel = (2595 * np.log10(1 + (sample_rate / 2) / 700))  # Convert Hz to Mel\n",
    "    mel_points = np.linspace(low_freq_mel, high_freq_mel, nfilt + 2)  # Equally spaced in Mel scale\n",
    "    hz_points = (700 * (10**(mel_points / 2595) - 1))  # Convert Mel to Hz\n",
    "    bin = np.floor((NFFT + 1) * hz_points / sample_rate)\n",
    "\n",
    "    fbank = np.zeros((nfilt, int(np.floor(NFFT / 2 + 1))))\n",
    "    for m in range(1, nfilt + 1):\n",
    "        f_m_minus = int(bin[m - 1])   # left\n",
    "        f_m = int(bin[m])             # center\n",
    "        f_m_plus = int(bin[m + 1])    # right\n",
    "\n",
    "        for k in range(f_m_minus, f_m):\n",
    "            fbank[m - 1, k] = (k - bin[m - 1]) / (bin[m] - bin[m - 1])\n",
    "        for k in range(f_m, f_m_plus):\n",
    "            fbank[m - 1, k] = (bin[m + 1] - k) / (bin[m + 1] - bin[m])\n",
    "    filter_banks = pow_frames.copy()\n",
    "    for x in range(pow_frames.shape[0]):\n",
    "        filter_banks[x] = np.dot(pow_frames[x], fbank.T)\n",
    "        filter_banks[x] = np.where(filter_banks[x] == 0, np.finfo(float).eps, filter_banks[x])  # Numerical Stability\n",
    "        filter_banks[x] = 20 * np.log10(filter_banks[x])  # dB    \n",
    "        filter_banks[x] -= (np.mean(filter_banks[x], axis=0) + 1e-8)\n",
    "        \n",
    "    return filter_banks        "
   ]
  },
  {
   "cell_type": "code",
   "execution_count": 18,
   "metadata": {},
   "outputs": [
    {
     "ename": "MemoryError",
     "evalue": "",
     "output_type": "error",
     "traceback": [
      "\u001b[0;31m---------------------------------------------------------------------------\u001b[0m",
      "\u001b[0;31mMemoryError\u001b[0m                               Traceback (most recent call last)",
      "\u001b[0;32m<ipython-input-18-734df0c35c22>\u001b[0m in \u001b[0;36m<module>\u001b[0;34m()\u001b[0m\n\u001b[0;32m----> 1\u001b[0;31m \u001b[0mX_train\u001b[0m \u001b[0;34m=\u001b[0m \u001b[0mnormalize\u001b[0m\u001b[0;34m(\u001b[0m\u001b[0mX_train\u001b[0m\u001b[0;34m)\u001b[0m\u001b[0;34m\u001b[0m\u001b[0m\n\u001b[0m\u001b[1;32m      2\u001b[0m \u001b[0mX_valid\u001b[0m \u001b[0;34m=\u001b[0m \u001b[0mnormalize\u001b[0m\u001b[0;34m(\u001b[0m\u001b[0mX_valid\u001b[0m\u001b[0;34m)\u001b[0m\u001b[0;34m\u001b[0m\u001b[0m\n\u001b[1;32m      3\u001b[0m \u001b[0mX_test\u001b[0m \u001b[0;34m=\u001b[0m \u001b[0mnormalize\u001b[0m\u001b[0;34m(\u001b[0m\u001b[0mX_test\u001b[0m\u001b[0;34m)\u001b[0m\u001b[0;34m\u001b[0m\u001b[0m\n\u001b[1;32m      4\u001b[0m \u001b[0;34m\u001b[0m\u001b[0m\n\u001b[1;32m      5\u001b[0m \u001b[0mimage\u001b[0m \u001b[0;34m=\u001b[0m \u001b[0mplt\u001b[0m\u001b[0;34m.\u001b[0m\u001b[0mimshow\u001b[0m\u001b[0;34m(\u001b[0m\u001b[0mX_train\u001b[0m\u001b[0;34m)\u001b[0m\u001b[0;34m\u001b[0m\u001b[0m\n",
      "\u001b[0;32m<ipython-input-17-432609872c02>\u001b[0m in \u001b[0;36mnormalize\u001b[0;34m(X_data)\u001b[0m\n\u001b[1;32m     19\u001b[0m \u001b[0;34m\u001b[0m\u001b[0m\n\u001b[1;32m     20\u001b[0m \u001b[0;34m\u001b[0m\u001b[0m\n\u001b[0;32m---> 21\u001b[0;31m     \u001b[0mframes\u001b[0m \u001b[0;34m=\u001b[0m \u001b[0mnp\u001b[0m\u001b[0;34m.\u001b[0m\u001b[0marray\u001b[0m\u001b[0;34m(\u001b[0m\u001b[0mframes\u001b[0m\u001b[0;34m)\u001b[0m\u001b[0;34m\u001b[0m\u001b[0m\n\u001b[0m\u001b[1;32m     22\u001b[0m     \u001b[0;31m# Windowing -> Hamming window\u001b[0m\u001b[0;34m\u001b[0m\u001b[0;34m\u001b[0m\u001b[0m\n\u001b[1;32m     23\u001b[0m     \u001b[0mframes\u001b[0m \u001b[0;34m*=\u001b[0m \u001b[0mnp\u001b[0m\u001b[0;34m.\u001b[0m\u001b[0mhamming\u001b[0m\u001b[0;34m(\u001b[0m\u001b[0mframe_length\u001b[0m\u001b[0;34m)\u001b[0m\u001b[0;34m\u001b[0m\u001b[0m\n",
      "\u001b[0;31mMemoryError\u001b[0m: "
     ]
    }
   ],
   "source": [
    "X_train = normalize(X_train)\n",
    "X_valid = normalize(X_valid)\n",
    "X_test = normalize(X_test)\n",
    "\n",
    "image = plt.imshow(X_train)\n",
    "plt.show()"
   ]
  },
  {
   "cell_type": "code",
   "execution_count": null,
   "metadata": {
    "collapsed": true
   },
   "outputs": [],
   "source": [
    "# Model\n",
    "def Len(x):\n",
    "    mu = 0\n",
    "    sigma = 0.1\n",
    "    weights = {\n",
    "        'w1': tf.Variable(tf.truncated_normal(shape=(5,5,1,6),mean=mu,stddev=sigma)),\n",
    "        'w2': tf.Variable(tf.truncated_normal(shape=(5,5,6,16),mean=mu,stddev=sigma)),\n",
    "        'w3': tf.Variable(tf.truncated_normal(shape=(400,120), mean=mu,stddev=sigma)),\n",
    "        'w4': tf.Variable(tf.truncated_normal(shape=(120,84), mean=mu,stddev=sigma)),\n",
    "        'w5': tf.Variable(tf.truncated_normal(shape=(84,10), mean=mu,stddev=sigma))\n",
    "    }\n",
    "    biases = {\n",
    "        'b1': tf.Variable(tf.zeros(6)),\n",
    "        'b2': tf.Variable(tf.zeros(16)),\n",
    "        'b3': tf.Variable(tf.zeros(120)),\n",
    "        'b4': tf.Variable(tf.zeros(84)),\n",
    "        'b5': tf.Variable(tf.zeros(10))\n",
    "    }\n",
    "    \n",
    "    # 1st layer, convolution and the max pool input 32x32x1, output from maxpool 14x14x6:\n",
    "    conv1 = tf.nn.conv2d(x,weights['w1'],strides=[1,1,1,1],padding='VALID') + biases['b1']\n",
    "    conv1 = tf.nn.relu(conv1)\n",
    "    conv1 = tf.nn.max_pool(conv1, ksize=[1, 2, 2, 1], strides=[1, 2, 2, 1], padding='VALID')\n",
    "    \n",
    "    # Next Layer, again convolution and the max pool input 14x14x16 to 5x5x16:\n",
    "    conv2 = tf.nn.conv2d(conv1,weights['w2'],strides=[1,1,1,1],padding='VALID') + biases['b2']\n",
    "    conv2 = tf.nn.relu(conv2)\n",
    "    conv2 = tf.nn.max_pool(conv2, ksize=[1, 2, 2, 1], strides=[1, 2, 2, 1], padding='VALID')\n",
    "    \n",
    "    # flattening, input 5x5x16 to 400:\n",
    "    f1 = flatten(conv2)\n",
    "    \n",
    "    # Fully connected, input 400x1, output 120\n",
    "    fc1 = tf.add(tf.matmul(f1,weights['w3']),biases['b3'])\n",
    "    fc1 = tf.nn.relu(fc1)\n",
    "    \n",
    "    # 2nd fullt connected, input 120 output 84\n",
    "    fc2 = tf.add(tf.matmul(fc1,weights['w4']),biases['b4'])\n",
    "    fc2 = tf.nn.relu(fc2)\n",
    "    \n",
    "    # Final output, input is 84, output 10\n",
    "    fc3 = tf.add(tf.matmul(fc2,weights['w5']),biases['b5'])\n",
    "    output = tf.nn.relu(fc3)\n",
    "    \n",
    "    return fc3"
   ]
  },
  {
   "cell_type": "code",
   "execution_count": null,
   "metadata": {
    "collapsed": true
   },
   "outputs": [],
   "source": [
    "x = tf.placeholder(tf.float32, (None, 32, 32, 3))\n",
    "y = tf.placeholder(tf.int32, (None))\n",
    "one_hot_y = tf.one_hot(y, 10)\n",
    "\n",
    "# These functions will train the model and modify the weights and biases:\n",
    "logits = Len(x)\n",
    "cross_entropy = tf.nn.softmax_cross_entropy_with_logits(labels=one_hot_y, logits=logits)\n",
    "loss_operation = tf.reduce_mean(cross_entropy)\n",
    "optimizer = tf.train.AdamOptimizer()\n",
    "training_operation = optimizer.minimize(loss_operation)\n",
    "\n",
    "correct_prediction = tf.equal(tf.argmax(logits, 1), tf.argmax(one_hot_y, 1))\n",
    "accuracy_operation = tf.reduce_mean(tf.cast(correct_prediction,tf.float32))\n",
    "saver = tf.train.Saver()\n",
    "\n",
    "\n",
    "def validate(X_valid,y_valid):\n",
    "    total_accuracy = 0\n",
    "    sess = tf.get_default_session()\n",
    "    for batch in range(0, len(X_valid), batch_size):\n",
    "        batch_x, batch_y =  X_valid[batch:batch+batch_size],y_valid[batch:batch+batch_size]\n",
    "        accuracy = sess.run(accuracy_operation, feed_dict={x: batch_x, y: batch_y})\n",
    "        total_accuracy += (accuracy * len(batch_x))\n",
    "    return total_accuracy / len(X_valid)\n",
    "\n",
    "\n",
    "batch_size = 128\n",
    "epoch = 5\n",
    "\n",
    "# Here, I will train the model by using the Adam optimizer. I have divided the samples to 128 size batches.\n",
    "with tf.Session() as s:\n",
    "    s.run(tf.global_variables_initializer())\n",
    "    X_train, y_train = shuffle(X_train, y_train)\n",
    "    for e in range(0,epoch):\n",
    "        \n",
    "        for batch in range(0,len(X_train),batch_size):\n",
    "            X_batch,y_batch = X_train[batch:batch+batch_size],y_train[batch:batch+batch_size]\n",
    "            s.run(training_operation, feed_dict={x:X_batch,y:y_batch}) \n",
    "        \n",
    "        accuracy = validate(X_valid,y_valid)\n",
    "        print(\"EPOCH {} ...\".format(e+1))\n",
    "        print(\"Validation Accuracy = {:.3f}\".format(accuracy))\n",
    "        print()\n",
    "        \n",
    "    saver.save(s, './lenet')\n",
    "    print(\"Model saved\")"
   ]
  }
 ],
 "metadata": {
  "kernelspec": {
   "display_name": "Python 3",
   "language": "python",
   "name": "python3"
  },
  "language_info": {
   "codemirror_mode": {
    "name": "ipython",
    "version": 3
   },
   "file_extension": ".py",
   "mimetype": "text/x-python",
   "name": "python",
   "nbconvert_exporter": "python",
   "pygments_lexer": "ipython3",
   "version": "3.5.2"
  },
  "widgets": {
   "state": {},
   "version": "1.1.2"
  }
 },
 "nbformat": 4,
 "nbformat_minor": 2
}
