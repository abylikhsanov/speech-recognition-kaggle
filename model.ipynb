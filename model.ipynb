{
 "cells": [
  {
   "cell_type": "code",
   "execution_count": 1,
   "metadata": {
    "collapsed": true
   },
   "outputs": [],
   "source": [
    "import numpy as np\n",
    "import matplotlib.pyplot as plt\n",
    "import random\n",
    "import tensorflow as tf\n",
    "from tensorflow.contrib.layers import flatten\n",
    "from sklearn.utils import shuffle\n",
    "from scipy.io.wavfile import read\n",
    "import matplotlib.pyplot as plt\n",
    "import os"
   ]
  },
  {
   "cell_type": "code",
   "execution_count": 9,
   "metadata": {
    "collapsed": true
   },
   "outputs": [],
   "source": [
    "path = '/Users/abylikhsanov1/AI/kaggle/speech_commands_v0.01/'\n",
    "path_audio = '/Users/abylikhsanov1/AI/kaggle/speech_commands_v0.01/'\n",
    "test_list = []\n",
    "valid_list = []\n",
    "with open(path+'testing_list.txt') as testing_file:\n",
    "    data = testing_file.readlines()\n",
    "    for line in data:\n",
    "        test_list.append(line.strip())\n",
    "        \n",
    "with open(path+'validation_list.txt') as testing_file:\n",
    "    data = testing_file.readlines()\n",
    "    for line in data:\n",
    "        valid_list.append(line.strip())\n",
    "        \n"
   ]
  },
  {
   "cell_type": "code",
   "execution_count": 10,
   "metadata": {},
   "outputs": [],
   "source": [
    "classes = ['yes','no','up','down','left','right','on','off','stop','go',\n",
    "           '_background_noise_','bed','bird','cat','dog','eight',\n",
    "                  'five','four','happy','house','marvin','nine','one',\n",
    "                  'seven','sheila','six','three','tree','two','wow','zero']\n",
    "all_dir = []\n",
    "\n",
    "for i in classes:\n",
    "    for l in os.listdir(path+i):\n",
    "        all_dir.append(i+'/'+l)\n",
    "\n",
    "for data1,data2 in zip(test_list,valid_list):\n",
    "    all_dir.remove(data1)\n",
    "    all_dir.remove(data2)"
   ]
  },
  {
   "cell_type": "code",
   "execution_count": 11,
   "metadata": {},
   "outputs": [
    {
     "name": "stderr",
     "output_type": "stream",
     "text": [
      "/Users/abylikhsanov1/anaconda3/envs/carnd-term1/lib/python3.5/site-packages/scipy/io/wavfile.py:273: WavFileWarning: Chunk (non-data) not understood, skipping it.\n",
      "  WavFileWarning)\n"
     ]
    }
   ],
   "source": [
    "#import soundfile as sf\n",
    "%matplotlib inline\n",
    "\n",
    "classes = ['yes','no','up','down','left','right','on','off','stop','go']\n",
    "\n",
    "unknown_classes = ['_background_noise_','bed','bird','cat','dog','eight',\n",
    "                  'five','four','happy','house','marvin','nine','one',\n",
    "                  'seven','sheila','six','three','tree','two','wow','zero']\n",
    "X_train = []\n",
    "y_train = []\n",
    "X_test = []\n",
    "y_test = []\n",
    "X_valid = []\n",
    "y_valid = []\n",
    "\n",
    "for l in all_dir:\n",
    "    check = l.split('/')[0]\n",
    "    \n",
    "    try:\n",
    "        data = read(path+l)\n",
    "        X_train.append(data)\n",
    "        if check in classes:\n",
    "            y_train.append(classes.index(check))\n",
    "        else:\n",
    "            y_train.append(10)\n",
    "    except ValueError:\n",
    "        continue"
   ]
  },
  {
   "cell_type": "code",
   "execution_count": 14,
   "metadata": {
    "scrolled": true
   },
   "outputs": [
    {
     "name": "stdout",
     "output_type": "stream",
     "text": [
      "yes/8a28231e_nohash_3.wav\n"
     ]
    }
   ],
   "source": [
    "print(all_dir[20])"
   ]
  },
  {
   "cell_type": "code",
   "execution_count": 4,
   "metadata": {
    "collapsed": true
   },
   "outputs": [],
   "source": [
    "# Normalise"
   ]
  },
  {
   "cell_type": "code",
   "execution_count": 5,
   "metadata": {
    "collapsed": true
   },
   "outputs": [],
   "source": [
    "# The CNN"
   ]
  },
  {
   "cell_type": "code",
   "execution_count": null,
   "metadata": {
    "collapsed": true
   },
   "outputs": [],
   "source": [
    "x = tf.placeholder(tf.float32, (None, 32, 32, 3))\n",
    "y = tf.placeholder(tf.int32, (None))\n",
    "one_hot_y = tf.one_hot(y, 43)\n",
    "\n",
    "# These functions will train the model and modify the weights and biases:\n",
    "logits = Len(x)\n",
    "cross_entropy = tf.nn.softmax_cross_entropy_with_logits(labels=one_hot_y, logits=logits)\n",
    "loss_operation = tf.reduce_mean(cross_entropy)\n",
    "optimizer = tf.train.AdamOptimizer()\n",
    "training_operation = optimizer.minimize(loss_operation)\n",
    "\n",
    "correct_prediction = tf.equal(tf.argmax(logits, 1), tf.argmax(one_hot_y, 1))\n",
    "accuracy_operation = tf.reduce_mean(tf.cast(correct_prediction,tf.float32))\n",
    "saver = tf.train.Saver()"
   ]
  }
 ],
 "metadata": {
  "kernelspec": {
   "display_name": "Python 3",
   "language": "python",
   "name": "python3"
  },
  "language_info": {
   "codemirror_mode": {
    "name": "ipython",
    "version": 3
   },
   "file_extension": ".py",
   "mimetype": "text/x-python",
   "name": "python",
   "nbconvert_exporter": "python",
   "pygments_lexer": "ipython3",
   "version": "3.5.2"
  }
 },
 "nbformat": 4,
 "nbformat_minor": 2
}
